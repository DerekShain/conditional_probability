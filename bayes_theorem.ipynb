{
 "cells": [
  {
   "cell_type": "markdown",
   "metadata": {},
   "source": [
    "# Bayes Theorem\n",
    "## Independence vs Exclusivity\n",
    "\n",
    "<math xmlns=\"http://www.w3.org/1998/Math/MathML\" display=\"block\">\n",
    "  <mtable columnalign=\"right left right left right left right left right left right left\" rowspacing=\"3pt\" columnspacing=\"0em 2em 0em 2em 0em 2em 0em 2em 0em 2em 0em\" displaystyle=\"true\"></br>\n",
    "    <mtr>\n",
    "      <mtd>\n",
    "        <mtext>Independence</mtext>\n",
    "      </mtd>\n",
    "      <mtd>\n",
    "        <mi></mi>\n",
    "        <mspace width=\"thickmathspace\" />\n",
    "        <mo stretchy=\"false\">&#x27F9;<!-- ⟹ --></mo>\n",
    "        <mspace width=\"thickmathspace\" />\n",
    "        <mi>P</mi>\n",
    "        <mo stretchy=\"false\">(</mo>\n",
    "        <mi>A</mi>\n",
    "        <mo>&#x2229;<!-- ∩ --></mo>\n",
    "        <mi>B</mi>\n",
    "        <mo stretchy=\"false\">)</mo>\n",
    "        <mo>=</mo>\n",
    "        <mi>P</mi>\n",
    "        <mo stretchy=\"false\">(</mo>\n",
    "        <mi>A</mi>\n",
    "        <mo stretchy=\"false\">)</mo>\n",
    "        <mo>&#x22C5;<!-- ⋅ --></mo>\n",
    "        <mi>P</mi>\n",
    "        <mo stretchy=\"false\">(</mo>\n",
    "        <mi>B</mi>\n",
    "        <mo stretchy=\"false\">)</mo>\n",
    "      </mtd>\n",
    "    </mtr></br>\n",
    "    <mtr>\n",
    "      <mtd>\n",
    "        <mtext>Dependence</mtext>\n",
    "      </mtd>\n",
    "      <mtd>\n",
    "        <mi></mi>\n",
    "        <mspace width=\"thickmathspace\" />\n",
    "        <mo stretchy=\"false\">&#x27F9;<!-- ⟹ --></mo>\n",
    "        <mspace width=\"thickmathspace\" />\n",
    "        <mi>P</mi>\n",
    "        <mo stretchy=\"false\">(</mo>\n",
    "        <mi>A</mi>\n",
    "        <mo>&#x2229;<!-- ∩ --></mo>\n",
    "        <mi>B</mi>\n",
    "        <mo stretchy=\"false\">)</mo>\n",
    "        <mo>=</mo>\n",
    "        <mi>P</mi>\n",
    "        <mo stretchy=\"false\">(</mo>\n",
    "        <mi>A</mi>\n",
    "        <mo stretchy=\"false\">)</mo>\n",
    "        <mo>&#x22C5;<!-- ⋅ --></mo>\n",
    "        <mi>P</mi>\n",
    "        <mo stretchy=\"false\">(</mo>\n",
    "        <mi>B</mi>\n",
    "        <mrow class=\"MJX-TeXAtom-ORD\">\n",
    "          <mo stretchy=\"false\">|</mo>\n",
    "        </mrow>\n",
    "        <mi>A</mi>\n",
    "        <mo stretchy=\"false\">)</mo>\n",
    "      </mtd>\n",
    "    </mtr></br>\n",
    "    <mtr>\n",
    "      <mtd>\n",
    "        <mtext>Exclusivity</mtext>\n",
    "      </mtd>\n",
    "      <mtd>\n",
    "        <mi></mi>\n",
    "        <mspace width=\"thickmathspace\" />\n",
    "        <mo stretchy=\"false\">&#x27F9;<!-- ⟹ --></mo>\n",
    "        <mspace width=\"thickmathspace\" />\n",
    "        <mi>P</mi>\n",
    "        <mo stretchy=\"false\">(</mo>\n",
    "        <mi>A</mi>\n",
    "        <mo>&#x2229;<!-- ∩ --></mo>\n",
    "        <mi>B</mi>\n",
    "        <mo stretchy=\"false\">)</mo>\n",
    "        <mo>=</mo>\n",
    "        <mn>0</mn>\n",
    "      </mtd>\n",
    "    </mtr>\n",
    "  </mtable>\n",
    "</math>"
   ]
  },
  {
   "cell_type": "markdown",
   "metadata": {},
   "source": [
    "For the exercises below, consider the following probabilities:\n",
    "- The probability of being infected with HIV is 0.00014. That is P(HIV)=0.00014.\n",
    "- The probability of being infected with HIV given a positive result from an HIV test is 0.03. That is P(HIV|T+)=0.03.\n",
    "\n",
    "Assess with True or False the following statements:\n",
    "- Events HIV and T+ are independent. If you think this statement is true, then assign the boolean True to statement_1, otherwise assign False.\n",
    "- Events HIV and HIVC are mutually exclusive. If you think this statement is true, then assign the boolean True to statement_2, otherwise assign False.\n",
    "- Events HIVC and T+ are dependent. If you think this statement is true, then assign the boolean True to statement_3, otherwise assign False."
   ]
  },
  {
   "cell_type": "code",
   "execution_count": 5,
   "metadata": {},
   "outputs": [],
   "source": [
    "statement_1 = False\n",
    "statement_2 = True\n",
    "statement_3 = True"
   ]
  },
  {
   "cell_type": "markdown",
   "metadata": {},
   "source": [
    "***\n",
    "## Example Walkthrough\n",
    "\n",
    "We can find the word \"secret\" in many spam emails. However, some emails are not spam even though they contain the word \"secret.\" Let's say we know the following probabilities:\n",
    "- The probability of getting a spam email is 23.88%. That is P(Spam)=0.2388.\n",
    "- The probability of an email containing the word \"secret\" given that the email is spam is 48.02%. That is P(\"secret\"|Spam)=0.4802.\n",
    "- The probability of an email containing the word \"secret\" given that the email is not spam is 12.84%. That is P(\"secret\"|SpamC)=0.1284.\n",
    "\n",
    "Calculate:\n",
    "- P(SpamC). Assign the result to p_non_spam.\n",
    "- P(Spam ∩ \"secret\"). Assign the result to p_spam_and_secret.\n",
    "- P(SpamC ∩ \"secret\"). Assign the result to p_non_spam_and_secret.\n",
    "- P(\"secret\"). Assign the result to p_secret."
   ]
  },
  {
   "cell_type": "code",
   "execution_count": 6,
   "metadata": {},
   "outputs": [
    {
     "name": "stdout",
     "output_type": "stream",
     "text": [
      "0.11467176000000001\n",
      "0.09773807999999999\n",
      "0.21240984000000002\n"
     ]
    }
   ],
   "source": [
    "p_spam = 0.2388\n",
    "p_secret_given_spam = 0.4802\n",
    "p_secret_given_non_spam = 0.1284\n",
    "p_non_spam = 1 - p_spam\n",
    "p_spam_and_secret = p_spam * p_secret_given_spam\n",
    "p_non_spam_and_secret = p_non_spam * p_secret_given_non_spam\n",
    "p_secret = p_spam_and_secret + p_non_spam_and_secret\n",
    "\n",
    "print(p_spam_and_secret)\n",
    "print(p_non_spam_and_secret)\n",
    "print(p_secret)"
   ]
  },
  {
   "cell_type": "markdown",
   "metadata": {},
   "source": [
    "***\n",
    "## General Formula\n",
    "\n",
    "![box](https://dq-content.s3.amazonaws.com/431/cpm3_viz3.png)\n",
    "\n",
    "<math xmlns=\"http://www.w3.org/1998/Math/MathML\" display=\"block\">\n",
    "  <mi>P</mi>\n",
    "  <mo stretchy=\"false\">(</mo>\n",
    "  <mi>A</mi>\n",
    "  <mo stretchy=\"false\">)</mo>\n",
    "  <mo>=</mo>\n",
    "  <mi>P</mi>\n",
    "  <mo stretchy=\"false\">(</mo>\n",
    "  <mi>B</mi>\n",
    "  <mo stretchy=\"false\">)</mo>\n",
    "  <mo>&#x22C5;<!-- ⋅ --></mo>\n",
    "  <mi>P</mi>\n",
    "  <mo stretchy=\"false\">(</mo>\n",
    "  <mi>A</mi>\n",
    "  <mrow class=\"MJX-TeXAtom-ORD\">\n",
    "    <mo stretchy=\"false\">|</mo>\n",
    "  </mrow>\n",
    "  <mi>B</mi>\n",
    "  <mo stretchy=\"false\">)</mo>\n",
    "  <mo>+</mo>\n",
    "  <mi>P</mi>\n",
    "  <mo stretchy=\"false\">(</mo>\n",
    "  <msup>\n",
    "    <mi>B</mi>\n",
    "    <mi>C</mi>\n",
    "  </msup>\n",
    "  <mo stretchy=\"false\">)</mo>\n",
    "  <mo>&#x22C5;<!-- ⋅ --></mo>\n",
    "  <mi>P</mi>\n",
    "  <mo stretchy=\"false\">(</mo>\n",
    "  <mi>A</mi>\n",
    "  <mrow class=\"MJX-TeXAtom-ORD\">\n",
    "    <mo stretchy=\"false\">|</mo>\n",
    "  </mrow>\n",
    "  <msup>\n",
    "    <mi>B</mi>\n",
    "    <mi>C</mi>\n",
    "  </msup>\n",
    "  <mo stretchy=\"false\">)</mo>\n",
    "</math>"
   ]
  },
  {
   "cell_type": "markdown",
   "metadata": {},
   "source": [
    "An airline transports passengers using two types of planes: a Boeing 737 and an Airbus A320.\n",
    "- The Boeing operates 73% of the flights. Out of these flights, 3% arrive at the destination with a delay.\n",
    "- The Airbus operates the remaining 27% of the flights. Out of these flights, 8% arrive with a delay.\n",
    "\n",
    "Convert the percentages above to probabilities:\n",
    "- Assign the probability of flying with a Boeing to p_boeing (to better understand what this probability means, imagine a passenger having bought a ticket with this airline — what's the probability that this passenger will be assigned to fly to her destination with a Boeing?).\n",
    "- Assign the probability of flying with an Airbus to p_airbus.\n",
    "- Assign the probability of arriving at the destination with a delay given that the passenger flies with a Boeing to p_delay_given_boeing.\n",
    "- Assign the probability of arriving at the destination with a delay given that the passenger flies with an Airbus to p_delay_given_airbus.\n",
    "\n",
    "Calculate:\n",
    "\n",
    "- The probability that a passenger will arrive at her destination with a delay. Assign your answer to p_delay. Check the hint if you get stuck."
   ]
  },
  {
   "cell_type": "code",
   "execution_count": 7,
   "metadata": {},
   "outputs": [
    {
     "name": "stdout",
     "output_type": "stream",
     "text": [
      "0.0435\n"
     ]
    }
   ],
   "source": [
    "p_boeing = 0.73\n",
    "p_airbus = 0.27\n",
    "p_delay_given_boeing = 0.03\n",
    "p_delay_given_airbus = 0.08\n",
    "\n",
    "p_delay = p_boeing*p_delay_given_boeing + p_airbus*p_delay_given_airbus\n",
    "\n",
    "print(p_delay)"
   ]
  },
  {
   "cell_type": "markdown",
   "metadata": {},
   "source": [
    "***\n",
    "## Formula for All Three Events\n",
    "\n",
    "![planes](cpm3_viz5.png)\n",
    "\n",
    "![general](general.png)\n",
    "\n",
    "An airline transports passengers using three types of planes: a Boeing 737, an Airbus A320, and an ERJ 145.\n",
    "- The Boeing operates 62% of the flights. Out of these flights, 6% arrive at the destination with a delay.\n",
    "- The Airbus operates 35% of the flights. Out of these flights, 9% arrive with a delay.\n",
    "- The ERJ operates the remaining 3% of the flights. Out of these flights, 1% arrive with a delay.\n",
    "\n",
    "Calculate the probability of delay and assign your result to p_delay. See the hint if you get stuck."
   ]
  },
  {
   "cell_type": "code",
   "execution_count": 8,
   "metadata": {},
   "outputs": [
    {
     "name": "stdout",
     "output_type": "stream",
     "text": [
      "0.06899999999999999\n"
     ]
    }
   ],
   "source": [
    "p_boeing = 0.62\n",
    "p_airbus = 0.35\n",
    "p_erj = 0.03\n",
    "p_delay_boeing = 0.06 \n",
    "p_delay_airbus = 0.09\n",
    "p_delay_erj = 0.01\n",
    "\n",
    "p_delay = p_boeing*p_delay_boeing + p_airbus*p_delay_airbus + p_erj*p_delay_erj\n",
    "\n",
    "print(p_delay)"
   ]
  },
  {
   "cell_type": "markdown",
   "metadata": {},
   "source": [
    "***\n",
    "## Law of Total Probability\n",
    "\n",
    "<math xmlns=\"http://www.w3.org/1998/Math/MathML\" display=\"block\">\n",
    "  <mi>P</mi>\n",
    "  <mo stretchy=\"false\">(</mo>\n",
    "  <mi>A</mi>\n",
    "  <mo stretchy=\"false\">)</mo>\n",
    "  <mo>=</mo>\n",
    "  <mi>P</mi>\n",
    "  <mo stretchy=\"false\">(</mo>\n",
    "  <msub>\n",
    "    <mi>B</mi>\n",
    "    <mn>1</mn>\n",
    "  </msub>\n",
    "  <mo stretchy=\"false\">)</mo>\n",
    "  <mo>&#x22C5;<!-- ⋅ --></mo>\n",
    "  <mi>P</mi>\n",
    "  <mo stretchy=\"false\">(</mo>\n",
    "  <mi>A</mi>\n",
    "  <mrow class=\"MJX-TeXAtom-ORD\">\n",
    "    <mo stretchy=\"false\">|</mo>\n",
    "  </mrow>\n",
    "  <msub>\n",
    "    <mi>B</mi>\n",
    "    <mn>1</mn>\n",
    "  </msub>\n",
    "  <mo stretchy=\"false\">)</mo>\n",
    "  <mo>+</mo>\n",
    "  <mi>P</mi>\n",
    "  <mo stretchy=\"false\">(</mo>\n",
    "  <msub>\n",
    "    <mi>B</mi>\n",
    "    <mn>2</mn>\n",
    "  </msub>\n",
    "  <mo stretchy=\"false\">)</mo>\n",
    "  <mo>&#x22C5;<!-- ⋅ --></mo>\n",
    "  <mi>P</mi>\n",
    "  <mo stretchy=\"false\">(</mo>\n",
    "  <mi>A</mi>\n",
    "  <mrow class=\"MJX-TeXAtom-ORD\">\n",
    "    <mo stretchy=\"false\">|</mo>\n",
    "  </mrow>\n",
    "  <msub>\n",
    "    <mi>B</mi>\n",
    "    <mn>2</mn>\n",
    "  </msub>\n",
    "  <mo stretchy=\"false\">)</mo>\n",
    "  <mo>+</mo>\n",
    "  <mo>&#x22EF;<!-- ⋯ --></mo>\n",
    "  <mo>+</mo>\n",
    "  <mi>P</mi>\n",
    "  <mo stretchy=\"false\">(</mo>\n",
    "  <msub>\n",
    "    <mi>B</mi>\n",
    "    <mi>n</mi>\n",
    "  </msub>\n",
    "  <mo stretchy=\"false\">)</mo>\n",
    "  <mo>&#x22C5;<!-- ⋅ --></mo>\n",
    "  <mi>P</mi>\n",
    "  <mo stretchy=\"false\">(</mo>\n",
    "  <mi>A</mi>\n",
    "  <mrow class=\"MJX-TeXAtom-ORD\">\n",
    "    <mo stretchy=\"false\">|</mo>\n",
    "  </mrow>\n",
    "  <msub>\n",
    "    <mi>B</mi>\n",
    "    <mi>n</mi>\n",
    "  </msub>\n",
    "  <mo stretchy=\"false\">)</mo>\n",
    "</math>\n",
    "\n",
    "Or it can be written as:\n",
    "\n",
    "![total_probability](total_p.png)"
   ]
  },
  {
   "cell_type": "markdown",
   "metadata": {},
   "source": [
    "***\n",
    "## Bayes' Theorem\n",
    "\n",
    "![bayes](bayes_theorem.png)\n",
    "![all_3](all_3.png)\n",
    "\n",
    "An airline transports passengers using two types of planes: a Boeing 737 and an Airbus A320.\n",
    "- The Boeing operates 73% of the flights. Out of these flights, 3% arrive at the destination with a delay.\n",
    "- The Airbus operates the remaining 27% of the flights. Out of these flights, 8% arrive with a delay.\n",
    "- Use Bayes' theorem to find P(Airbus|Delay). Assign your answer to p_airbus_delay. Don't forget you can check the hint if you get stuck."
   ]
  },
  {
   "cell_type": "code",
   "execution_count": 12,
   "metadata": {},
   "outputs": [
    {
     "name": "stdout",
     "output_type": "stream",
     "text": [
      "0.0435\n",
      "0.4965517241379311\n"
     ]
    }
   ],
   "source": [
    "p_boeing = 0.73\n",
    "p_airbus = 0.27\n",
    "p_delay_given_boeing = 0.03\n",
    "p_delay_given_airbus = 0.08\n",
    "p_delay = p_boeing*p_delay_given_boeing + p_airbus*p_delay_given_airbus\n",
    "p_airbus_delay = (p_airbus * p_delay_given_airbus) / p_delay\n",
    "\n",
    "print(p_delay)\n",
    "print(p_airbus_delay)"
   ]
  },
  {
   "cell_type": "markdown",
   "metadata": {},
   "source": [
    "***\n",
    "## Prior and Posterior Probabilities\n",
    "\n",
    "The probability of being infected with HIV before doing any test is called the prior probability (\"prior\" means \"before\"). The probability of being infected with HIV after testing positive is called the posterior probability (\"posterior\" means \"after\").\n",
    "\n",
    "Many spam emails contain the word \"secret\". However, some emails are not spam even though they contain the word \"secret\". Let's say we know the following probabilities:\n",
    "- The probability of getting a spam email is 23.88%. That is P(Spam)=0.2388.\n",
    "- The probability of an email containing the word \"secret\" given that the email is spam is 48.02%. That is P(\"secret\"|Spam)=0.4802.\n",
    "- The probability of an email containing the word \"secret\" given that the email is not spam is 12.84%. That is P(\"secret\"|SpamC)=0.1284.\n",
    "\n",
    "Use Bayes' theorem to find P(Spam|\"secret\"). Assign your answer to p_spam_given_secret.\n",
    "\n",
    "Assign the prior probability of getting a spam email to prior.\n",
    "\n",
    "Assign the posterior probability of getting a spam email (after we see the email contains the word \"secret\") to posterior.\n",
    "\n",
    "Calculate the ratio between the posterior and the prior probability — you'll need to divide the posterior probability by the prior probability. Assign your answer to ratio."
   ]
  },
  {
   "cell_type": "code",
   "execution_count": 13,
   "metadata": {},
   "outputs": [
    {
     "name": "stdout",
     "output_type": "stream",
     "text": [
      "2.2607238911342336\n"
     ]
    }
   ],
   "source": [
    "p_spam = 0.2388\n",
    "p_secret_given_spam = 0.4802\n",
    "p_secret_given_non_spam = 0.1284\n",
    "# Exercise 1\n",
    "p_non_spam = 1 - p_spam\n",
    "p_secret = p_spam*p_secret_given_spam + p_non_spam*p_secret_given_non_spam\n",
    "p_spam_given_secret = (p_spam*p_secret_given_spam) / p_secret\n",
    "\n",
    "# Exercise 2 and 3\n",
    "prior = p_spam\n",
    "posterior = p_spam_given_secret\n",
    "\n",
    "# Exercise 4\n",
    "ratio = posterior/prior\n",
    "\n",
    "print (ratio)"
   ]
  },
  {
   "cell_type": "code",
   "execution_count": null,
   "metadata": {},
   "outputs": [],
   "source": []
  }
 ],
 "metadata": {
  "interpreter": {
   "hash": "102858ec4b04dcd74038fe1ba5e2df4247d5b4c1f27427e1bf6cc1238b63214b"
  },
  "kernelspec": {
   "display_name": "Python 3.9.7 64-bit ('base': conda)",
   "language": "python",
   "name": "python3"
  },
  "language_info": {
   "codemirror_mode": {
    "name": "ipython",
    "version": 3
   },
   "file_extension": ".py",
   "mimetype": "text/x-python",
   "name": "python",
   "nbconvert_exporter": "python",
   "pygments_lexer": "ipython3",
   "version": "3.9.7"
  },
  "orig_nbformat": 4
 },
 "nbformat": 4,
 "nbformat_minor": 2
}
