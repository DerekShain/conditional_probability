{
 "cells": [
  {
   "cell_type": "markdown",
   "metadata": {},
   "source": [
    "# Naive Bayes Algorithm\n",
    "## Using Bayes Theorem\n",
    "\n",
    "\\begin{aligned}\n",
    "&P(Spam) = 0.5 \\\\\n",
    "&P(Spam^C) = 0.5 \\\\\n",
    "&P(New\\ message) = 0.5417 \\\\\n",
    "&P(New\\ Message | Spam) = 0.75 \\\\\n",
    "&P(New\\ Message | Spam^C) = 0.3334\n",
    "\\end{aligned}\n",
    "\n",
    "Classify this new message as spam or non-spam:\n",
    "- Calculate P(Spam|New Message). Assign your answer to p_spam_given_new_message.\n",
    "- Calculate P(SpamC|New Message). Assign your answer to p_non_spam_given_new_message.\n",
    "- Classify the message by comparing the probability values. If the message is spam, then assign the string 'spam' to the variable - classification. Otherwise, assign the string 'non-spam'.\n",
    "\n"
   ]
  },
  {
   "cell_type": "code",
   "execution_count": 1,
   "metadata": {},
   "outputs": [],
   "source": [
    "p_spam = 0.5\n",
    "p_non_spam = 0.5\n",
    "p_new_message = 0.5417\n",
    "p_new_message_given_spam = 0.75\n",
    "p_new_message_given_non_spam = 0.3334\n",
    "p_spam_given_new_message = (p_spam * p_new_message_given_spam) / p_new_message\n",
    "p_non_spam_given_new_message = (p_non_spam * p_new_message_given_non_spam) / p_new_message\n",
    "\n",
    "classification = 'spam' # p_spam_given_new_message > p_non_spam_given_new_message"
   ]
  },
  {
   "cell_type": "markdown",
   "metadata": {},
   "source": []
  },
  {
   "cell_type": "markdown",
   "metadata": {},
   "source": [
    "***\n",
    "## Ignoring the Division\n",
    "The symbol for directly proportional is ∝, and it's more accurate to replace the equality sign with ∝ in our two equations:\n",
    "\n",
    "\\begin{equation}\n",
    "\\small  P(Spam | New\\ message) \\propto P(Spam) \\cdot P(New\\ Message | Spam) \\\\\n",
    "P(Spam^C | New\\ message) \\propto P(Spam^C) \\cdot P(New\\ Message | Spam^C)\n",
    "\\end{equation}\n",
    "\n",
    "\\begin{aligned}\n",
    "&P(Spam) = 0.5 \\\\\n",
    "&P(Spam^C) = 0.5 \\\\\n",
    "&P(New\\ Message | Spam) = 0.75 \\\\\n",
    "&P(New\\ Message | Spam^C) = 0.3334\n",
    "\\end{aligned}\n",
    "\n",
    "\n",
    "Use the new equations we learned on this screen, and classify the new message as spam or non-spam:\n",
    "- Calculate P(Spam|New Message). Assign your answer to p_spam_given_new_message.\n",
    "- Calculate P(SpamC|New Message). Assign your answer to p_non_spam_given_new_message.\n",
    "- Classify the message by comparing the probability values — if the message is spam, then assign the string 'spam' to the variable classification. Otherwise, assign the string 'non-spam'."
   ]
  },
  {
   "cell_type": "code",
   "execution_count": 2,
   "metadata": {},
   "outputs": [],
   "source": [
    "p_spam = 0.5\n",
    "p_non_spam = 0.5\n",
    "p_new_message_given_spam = 0.75\n",
    "p_new_message_given_non_spam = 0.3334\n",
    "p_spam_given_new_message = p_spam * p_new_message_given_spam\n",
    "p_non_spam_given_new_message = p_non_spam * p_new_message_given_non_spam\n",
    "\n",
    "classification = 'spam' # p_spam_given_new_message > p_non_spam_given_new_message"
   ]
  },
  {
   "cell_type": "markdown",
   "metadata": {},
   "source": [
    "***\n",
    "## One-Word Message\n",
    "![secret3](cpm4_viz2.png)\n",
    "![secret](cpm4_viz3.png)\n",
    "\n",
    "\\begin{equation}\n",
    "P(\\text{\"secret\"}| Spam) = \\frac{\\text{number of times the word \"secret\" occurs}}{\\text{total number of words in all spam messages}} = \\frac{4}{7}\n",
    "\\end{equation}\n",
    "\n",
    "\\begin{aligned}\n",
    "P(Spam | \\text{\"secret\"}) &\\propto P(Spam) \\cdot P(\\text{\"secret\"} | Spam) \\\\\n",
    "&= \\frac{2}{3} \\cdot \\frac{4}{7} = \\frac{8}{21}\n",
    "\\end{aligned}"
   ]
  },
  {
   "cell_type": "markdown",
   "metadata": {},
   "source": [
    "- Calculate P(SpamC) and assign the answer to p_non_spam.\n",
    "- Calculate P(\"secret\"|SpamC) and assign the answer to p_secret_given_non_spam.\n",
    "- Calculate P(SpamC|\"secret\") and assign the answer to p_non_spam_given_secret.\n",
    "- Compare P(SpamC|\"secret\") with P(Spam|\"secret\") and classify the message \"secret\" — if the message is spam, then assign the string 'spam' to the variable classification, otherwise assign the string 'non-spam'."
   ]
  },
  {
   "cell_type": "code",
   "execution_count": 3,
   "metadata": {},
   "outputs": [],
   "source": [
    "p_spam_given_secret = 8/21\n",
    "p_non_spam = 1/3\n",
    "p_secret_given_non_spam = 1/4\n",
    "p_non_spam_given_secret = p_non_spam * p_secret_given_non_spam\n",
    "classification = 'spam'"
   ]
  },
  {
   "cell_type": "markdown",
   "metadata": {},
   "source": [
    "*** \n",
    "## Multiple Words\n",
    "\n",
    "\\begin{aligned}\n",
    "P(Spam | w_1,w_2,w_3,w_4) &\\propto P(Spam) \\cdot P(w_1|Spam) \\cdot P(w_2|Spam) \\cdot P(w_3|Spam) \\cdot P(w_4|Spam) \\\\\n",
    "&= \\frac{1}{2} \\cdot \\frac{4}{7} \\cdot \\frac{1}{7} \\cdot \\frac{4}{7} \\cdot \\frac{4}{7} = \\frac{64}{4802} = 0.01333\n",
    "\\end{aligned}\n",
    "\n",
    "![secret3](cpm4_viz4.png)\n",
    "\n",
    "* Calculate P(SpamC|w1, w2, w3, w4). Assign the answer to p_non_spam_given_w1_w2_w3_w4. Check the hint if you get stuck.\n",
    "* Compare P(SpamC|w1, w2, w3, w4) with P(Spam|w1, w2, w3, w4) and classify the message \"secret place secret secret\" — if the message is spam, then assign the string 'spam' to the variable classification. Otherwise, assign the string 'non-spam'."
   ]
  },
  {
   "cell_type": "code",
   "execution_count": 5,
   "metadata": {},
   "outputs": [
    {
     "name": "stdout",
     "output_type": "stream",
     "text": [
      "0.0006096631611034902\n"
     ]
    }
   ],
   "source": [
    "p_spam_given_w1_w2_w3_w4 = 64/4802\n",
    "p_non_spam = 2/4\n",
    "p_w1_given_non_spam = 2/9\n",
    "p_w2_given_non_spam = 1/9\n",
    "p_w3_given_non_spam = 2/9\n",
    "p_w4_given_non_spam = 2/9\n",
    "\n",
    "p_non_spam_given_w1_w2_w3_w4 = (p_non_spam * p_w1_given_non_spam * p_w2_given_non_spam * p_w3_given_non_spam * p_w4_given_non_spam)\n",
    "\n",
    "classification = 'spam'\n",
    "\n",
    "print(p_non_spam_given_w1_w2_w3_w4)"
   ]
  },
  {
   "cell_type": "markdown",
   "metadata": {},
   "source": [
    "***\n",
    "## Edge Cases\n",
    "\n",
    "\\begin{equation}\n",
    "P(Spam^C|\\text{\"secret code to unlock the money\"}) \\propto P(Spam^C) \\cdot P(\\text{\"secret\"}|Spam^C) \\cdot P(\\text{\"the\"}|Spam^C) \\cdot P(\\text{\"money\"}|Spam^C)\n",
    "\\end{equation}\n",
    "\n",
    "![secret4](cpm4_viz7.png)\n",
    "* Calculate P(SpamC|\"secret code to unlock the money\"). Assign your answer to p_non_spam_given_message.\n",
    "* Print p_spam_given_message and p_non_spam_given_message. Why do you think we got these values? We'll discuss more about this in the next screen."
   ]
  },
  {
   "cell_type": "code",
   "execution_count": 7,
   "metadata": {},
   "outputs": [
    {
     "name": "stdout",
     "output_type": "stream",
     "text": [
      "0.0\n",
      "0.0\n"
     ]
    }
   ],
   "source": [
    "p_spam = 2/4\n",
    "p_secret_given_spam = 4/7\n",
    "p_the_given_spam = 0/7\n",
    "p_money_given_spam = 2/7\n",
    "p_spam_given_message = (p_spam * p_secret_given_spam * p_the_given_spam * p_money_given_spam)\n",
    "p_non_spam = 2/4\n",
    "p_secret_given_non_spam = 2/9\n",
    "p_the_given_non_spam = 1/9\n",
    "p_money_given_non_spam = 0/9\n",
    "p_non_spam_given_message = (p_non_spam * p_secret_given_non_spam * p_the_given_non_spam * p_money_given_non_spam)\n",
    "\n",
    "\n",
    "print(p_spam_given_message)\n",
    "print(p_non_spam_given_message)"
   ]
  },
  {
   "cell_type": "markdown",
   "metadata": {},
   "source": [
    "***\n",
    "## Additive Smoothing.\n",
    "\n",
    "\\begin{equation}\n",
    "P(word|Spam) = \\frac{N_{\\text{word}|Spam} + \\alpha}{N_{Spam} + \\alpha \\cdot N_{Vocabulary}}\n",
    "\\end{equation}\n",
    "\n",
    "* Using the additive smoothing technique, calculate P(SpamC|\"secret code to unlock the money\"). Assign your answer to p_non_spam_given_message.\n",
    "* Compare p_spam_given_message and p_non_spam_given_message to classify the message as spam or non-spam. If you think it's spam, then assign the string 'spam' to classification. Otherwise, assign 'non-spam'.\n",
    "\n",
    "![secret4](cpm4_viz7.png)"
   ]
  },
  {
   "cell_type": "code",
   "execution_count": 9,
   "metadata": {},
   "outputs": [
    {
     "name": "stdout",
     "output_type": "stream",
     "text": [
      "0.0005144032921810699\n"
     ]
    }
   ],
   "source": [
    "p_spam = 2/4\n",
    "p_secret_given_spam = (4 + 1) / (7 + 9)\n",
    "p_the_given_spam = (0 + 1) / (7 + 9)\n",
    "p_money_given_spam = (2 + 1) / (7 + 9)\n",
    "p_spam_given_message = (p_spam * p_secret_given_spam * p_the_given_spam * p_money_given_spam)\n",
    "p_non_spam = 2/4\n",
    "p_secret_given_non_spam = (2 + 1) / (9 + 9)\n",
    "p_the_given_non_spam = (1 + 1) / (9 + 9)\n",
    "p_money_given_non_spam = (0 + 1) / (9 + 9)\n",
    "p_non_spam_given_message = (p_non_spam * p_secret_given_non_spam * p_the_given_non_spam * p_money_given_non_spam)\n",
    "\n",
    "classification = 'spam'\n",
    "\n",
    "print(p_non_spam_given_message)"
   ]
  }
 ],
 "metadata": {
  "interpreter": {
   "hash": "102858ec4b04dcd74038fe1ba5e2df4247d5b4c1f27427e1bf6cc1238b63214b"
  },
  "kernelspec": {
   "display_name": "Python 3.9.7 64-bit ('base': conda)",
   "language": "python",
   "name": "python3"
  },
  "language_info": {
   "codemirror_mode": {
    "name": "ipython",
    "version": 3
   },
   "file_extension": ".py",
   "mimetype": "text/x-python",
   "name": "python",
   "nbconvert_exporter": "python",
   "pygments_lexer": "ipython3",
   "version": "3.9.7"
  },
  "orig_nbformat": 4
 },
 "nbformat": 4,
 "nbformat_minor": 2
}
