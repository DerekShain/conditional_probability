{
 "cells": [
  {
   "cell_type": "markdown",
   "metadata": {},
   "source": [
    "# Conditional Probability\n",
    "## Recap\n",
    "\n",
    "* The probability of getting a 2. Assign your answer to p_2.\n",
    "* The probability of getting an odd number (1, 3, or 5). Assign your answer to p_odd.\n",
    "* The probability of getting a 2 or a 4, Assign your answer to p_2_or_4."
   ]
  },
  {
   "cell_type": "code",
   "execution_count": 12,
   "metadata": {},
   "outputs": [
    {
     "name": "stdout",
     "output_type": "stream",
     "text": [
      "0.16666666666666666\n",
      "0.5\n",
      "0.3333333333333333\n"
     ]
    }
   ],
   "source": [
    "p_2 = 1/6\n",
    "p_odd = 3/6\n",
    "p_2_or_4 = 2/6\n",
    "\n",
    "print(p_2)\n",
    "print(p_odd)\n",
    "print(p_2_or_4)"
   ]
  },
  {
   "cell_type": "markdown",
   "metadata": {},
   "source": [
    "***\n",
    "## Updating Probabilities\n",
    "\n",
    "* The probability of getting a 3. Assign your answer to p_3.\n",
    "* The probability of getting a 6. Assign your answer to p_6.\n",
    "* The probability of getting an odd number. Assign your answer to p_odd.\n",
    "* The probability of getting an even number. Assign your answer to p_even."
   ]
  },
  {
   "cell_type": "code",
   "execution_count": 13,
   "metadata": {},
   "outputs": [
    {
     "name": "stdout",
     "output_type": "stream",
     "text": [
      "0.25\n",
      "0.0\n",
      "0.5\n",
      "0.5\n"
     ]
    }
   ],
   "source": [
    "p_3 = 1/4\n",
    "p_6 = 0/4\n",
    "p_odd = 2/4\n",
    "p_even = 2/4\n",
    "\n",
    "print(p_3)\n",
    "print(p_6)\n",
    "print(p_odd)\n",
    "print(p_even)"
   ]
  },
  {
   "cell_type": "markdown",
   "metadata": {},
   "source": [
    "***\n",
    "## Conditional Probability\n",
    "\n",
    "<math xmlns=\"http://www.w3.org/1998/Math/MathML\" display=\"block\">\n",
    "  <mtext>P</mtext>\n",
    "  <mo stretchy=\"false\">(</mo>\n",
    "  <mn>5</mn>\n",
    "  <mo stretchy=\"false\">)</mo>\n",
    "  <mo>=</mo>\n",
    "  <mfrac>\n",
    "    <mn>1</mn>\n",
    "    <mn>/</mn>\n",
    "    <mn>6</mn>\n",
    "  </mfrac>\n",
    "  <mspace linebreak=\"newline\" />\n",
    "</math>\n",
    "\n",
    "For notation simplicity, P(5 given the die showed an odd number) becomes P(5| odd). The vertical bar character ( | ) should be read as \"given.\" We can read P(5| odd) as \"the probability of getting a 5 given that the die showed an odd number.\"\n",
    "\n",
    "A student is randomly selected from a class. All we know is that he was born during winter. Assume the winter months are December, January, and February and ignore the fact that these three months have different number of days. Find:\n",
    "* The probability that he was born in December. Assign your answer to p_december.\n",
    "* The probability that he was born during summer. Assign your answer to p_summer.\n",
    "* The probability that he was born in a month which ends in letter \"r\" — \"September\", for instance, ends in \"r\", while \"April\" doesn't. Assign your answer to p_ends_r.\n"
   ]
  },
  {
   "cell_type": "code",
   "execution_count": 14,
   "metadata": {},
   "outputs": [
    {
     "name": "stdout",
     "output_type": "stream",
     "text": [
      "0.3333333333333333\n",
      "0.0\n",
      "0.3333333333333333\n"
     ]
    }
   ],
   "source": [
    "p_december = 1/3\n",
    "p_summer = 0/3\n",
    "p_ends_r = 1/3\n",
    "\n",
    "print(p_december)\n",
    "print(p_summer)\n",
    "print(p_ends_r)"
   ]
  },
  {
   "cell_type": "markdown",
   "metadata": {},
   "source": [
    "***\n",
    "## Conditional Probability Formula\n",
    "> *∩ means and*\n",
    "\n",
    "P(B|A) = P(A∩B) / P(A)\n",
    "\n",
    "Find P(A|B), where A is the event where the sum is an even number, and B is the event that the sum is less than eight.\n",
    "* Find card(B). Assign your answer to card_b.\n",
    "    * Note that you'll have to treat identical sums differently if they come from different die numbers. On the diagram above, we see that we have three sums of 4, but they all come from different die outcomes: (3, 1), (2,2), and (1, 3), where the first number describes the outcome of the first die throw, and the second number the outcome of the second die throw.\n",
    "* Find card(A ∩ B). Assign your answer to card_a_and_b.\n",
    "* Calculate P(A|B). Assign your answer to p_a_given_b."
   ]
  },
  {
   "cell_type": "code",
   "execution_count": 15,
   "metadata": {},
   "outputs": [],
   "source": [
    "card_b = 21\n",
    "card_a_and_b = 9\n",
    "p_a_given_b = card_a_and_b / card_b"
   ]
  },
  {
   "cell_type": "markdown",
   "metadata": {},
   "source": [
    "***\n",
    "## Example Walkthrough\n",
    "\n",
    "![table](cpm1_table1.png)\n",
    "\n",
    "* Calculate P(T- | HIVC). Assign your answer to p_negative_given_non_hiv.\n",
    "* Print p_negative_given_non_hiv.\n",
    "* Interpret the result — does the value of P(T- | HIVC) suggest that the test needs more work? Or does it look like the test is reliable enough to use in hospitals? Write your thoughts using a multi-line string. This part of the exercise is not answer-checked, but we suggest a solution nonetheless."
   ]
  },
  {
   "cell_type": "code",
   "execution_count": 16,
   "metadata": {},
   "outputs": [
    {
     "name": "stdout",
     "output_type": "stream",
     "text": [
      "20.0 % \n",
      " The probability of testing negative given that a patient is not infected with HIV is 20%. This means that for every 10,000 healthy patients, only about 2000 will get a correct diagnosis, while the other 8000 will not. It looks like the test is almost completely inefficient, and it could be dangerous to have it used in hospitals.\n"
     ]
    }
   ],
   "source": [
    "p_negative_given_non_hiv = 6/30\n",
    "\n",
    "print((p_negative_given_non_hiv * 100),'%', '\\n' , 'The probability of testing negative given that a patient is not infected with HIV is 20%. This means that for every 10,000 healthy patients, only about 2000 will get a correct diagnosis, while the other 8000 will not. It looks like the test is almost completely inefficient, and it could be dangerous to have it used in hospitals.')"
   ]
  },
  {
   "cell_type": "markdown",
   "metadata": {},
   "source": [
    "***\n",
    "## Probability Formula\n",
    "\n",
    "![formula](12.jpg)\n",
    "\n",
    "![table2](cpm1_table2.png)\n",
    "\n",
    "* P(Premium | Chrome) — the probability that a randomly chosen user has a premium subscription, provided their browser is Chrome. Assign your answer to p_premium_given_chrome.\n",
    "* P(Basic | Safari) — the probability that a randomly chosen user has a basic subscription, provided their browser is Safari. Assign your answer to p_basic_given_safari.\n",
    "* P(Free | Firefox)} — the probability that a randomly chosen user has a free subscription, provided their browser is Firefox. Assign your answer to p_free_given_firefox.\n",
    "* Between a Chrome user and a Safari user, who is more likely to have a premium subscription? If you think a Chrome user is the answer, then assign the string 'Chrome' to a variable named more_likely_premium, otherwise assign 'Safari'. To solve this exercise, you'll also need to calculate P(Premium | Safari)."
   ]
  },
  {
   "cell_type": "code",
   "execution_count": 18,
   "metadata": {},
   "outputs": [
    {
     "name": "stdout",
     "output_type": "stream",
     "text": [
      "0.05720492396813903\n",
      "0.2127329192546584\n",
      "0.9203501094091904\n",
      "Safari\n"
     ]
    }
   ],
   "source": [
    "p_premium_given_chrome = 158/2762\n",
    "p_basic_given_safari = 274/1288\n",
    "p_free_given_firefox = 2103/2285\n",
    "more_likely_premium = 'Safari' #because P(Premium | Safari) > P(Premium | Chrome)\n",
    "\n",
    "print(p_premium_given_chrome)\n",
    "print(p_basic_given_safari)\n",
    "print(p_free_given_firefox)\n",
    "print(more_likely_premium)"
   ]
  },
  {
   "cell_type": "markdown",
   "metadata": {},
   "source": []
  }
 ],
 "metadata": {
  "interpreter": {
   "hash": "102858ec4b04dcd74038fe1ba5e2df4247d5b4c1f27427e1bf6cc1238b63214b"
  },
  "kernelspec": {
   "display_name": "Python 3.9.7 64-bit ('base': conda)",
   "language": "python",
   "name": "python3"
  },
  "language_info": {
   "codemirror_mode": {
    "name": "ipython",
    "version": 3
   },
   "file_extension": ".py",
   "mimetype": "text/x-python",
   "name": "python",
   "nbconvert_exporter": "python",
   "pygments_lexer": "ipython3",
   "version": "3.9.7"
  },
  "orig_nbformat": 4
 },
 "nbformat": 4,
 "nbformat_minor": 2
}
